{
 "cells": [
  {
   "cell_type": "code",
   "execution_count": 1,
   "id": "e58c1f97",
   "metadata": {},
   "outputs": [],
   "source": [
    "# Define environment variables as a dictionary\n",
    "env_variables = {\n",
    "    \"API_KEY\": \"sk-grzH9Y_7Y0n1fQqgH2Hf_QAZnR3ZdIhSG7qtqwjOKiT3BlbkFJV8UVizppH1cQCJIxkd3IC_-aZ9yWtqgBqGzvcxj3IA\",\n",
    "    \n",
    "}\n",
    "\n",
    "# Create and write to the .env file\n",
    "with open(\".env\", \"w\") as f:\n",
    "    for key, value in env_variables.items():\n",
    "        f.write(f\"{key}={value}\\n\")\n"
   ]
  },
  {
   "cell_type": "code",
   "execution_count": 2,
   "id": "53145253",
   "metadata": {},
   "outputs": [
    {
     "name": "stdout",
     "output_type": "stream",
     "text": [
      "['.DS_Store', 'requirements.txt', 'query.py', 'Untitled.ipynb', 'input.mov', 'system_prompt.txt', 'query_bakeoff.py', 'datauri', 'app_bakeoff.py', 'multimodal-livestream-main', '.env', 'media_extractor', 'app.py', '.ipynb_checkpoints', 'video-to-speech.ipynb']\n"
     ]
    }
   ],
   "source": [
    "import os\n",
    "print(os.listdir())\n"
   ]
  },
  {
   "cell_type": "code",
   "execution_count": null,
   "id": "5df580fe",
   "metadata": {},
   "outputs": [],
   "source": []
  }
 ],
 "metadata": {
  "kernelspec": {
   "display_name": "Python 3 (ipykernel)",
   "language": "python",
   "name": "python3"
  },
  "language_info": {
   "codemirror_mode": {
    "name": "ipython",
    "version": 3
   },
   "file_extension": ".py",
   "mimetype": "text/x-python",
   "name": "python",
   "nbconvert_exporter": "python",
   "pygments_lexer": "ipython3",
   "version": "3.9.13"
  }
 },
 "nbformat": 4,
 "nbformat_minor": 5
}
